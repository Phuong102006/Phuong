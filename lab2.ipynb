{
  "nbformat": 4,
  "nbformat_minor": 0,
  "metadata": {
    "colab": {
      "provenance": [],
      "authorship_tag": "ABX9TyMzRwM7oP6uErnsSXxW/NUZ",
      "include_colab_link": true
    },
    "kernelspec": {
      "name": "python3",
      "display_name": "Python 3"
    },
    "language_info": {
      "name": "python"
    }
  },
  "cells": [
    {
      "cell_type": "markdown",
      "metadata": {
        "id": "view-in-github",
        "colab_type": "text"
      },
      "source": [
        "<a href=\"https://colab.research.google.com/github/Phuong102006/Phuong/blob/main/lab2.ipynb\" target=\"_parent\"><img src=\"https://colab.research.google.com/assets/colab-badge.svg\" alt=\"Open In Colab\"/></a>"
      ]
    },
    {
      "cell_type": "code",
      "source": [
        "mark = float(input())\n",
        "if 90 <= mark <= 100:\n",
        "  print(\"Your letter grade is: A\")\n",
        "\n",
        "elif 80 <= mark <= 89:\n",
        "   print(\"Your letter grade is: B\")\n",
        "\n",
        "elif 70 <= mark <= 79:\n",
        "  print(\"Your letter grade is: C\")\n",
        "elif 60 <= mark <= 69:\n",
        "   print(\"Your letter grade is: D\")\n",
        "elif 0 <= mark <= 59:\n",
        "  print(\"Your letter grade is: F\")\n",
        "else:\n",
        "  print(\"Invalid input. Please enter a number from 1 to 100.\")"
      ],
      "metadata": {
        "colab": {
          "base_uri": "https://localhost:8080/"
        },
        "id": "J-IMYSiqKdR3",
        "outputId": "ce5f0bed-ba48-4933-ebf3-a92e9f408eb3"
      },
      "execution_count": 1,
      "outputs": [
        {
          "output_type": "stream",
          "name": "stdout",
          "text": [
            "99\n",
            "Your letter grade is: A\n"
          ]
        }
      ]
    },
    {
      "cell_type": "code",
      "source": [
        "def assign_letter_grade(marks):\n",
        "    \"\"\"\n",
        "    Assigns a letter grade based on the given marks.\n",
        "\n",
        "    Args:\n",
        "        marks (int): The student's exam marks.\n",
        "\n",
        "    Returns:\n",
        "        str: The corresponding letter grade.\n",
        "    \"\"\"\n",
        "    if 90 <= marks <= 100:\n",
        "        return \"A\"\n",
        "    elif 80 <= marks <= 89:\n",
        "        return \"B\"\n",
        "    elif 70 <= marks <= 79:\n",
        "        return \"C\"\n",
        "    elif 60 <= marks <= 69:\n",
        "        return \"D\"\n",
        "    elif 0 <= marks < 60:\n",
        "        return \"F\"\n",
        "    else:\n",
        "        return \"Invalid input. Please enter marks between 0 and 100.\"\n",
        "\n",
        "try:\n",
        "    student_marks = int(input(\"Enter the student's exam marks: \"))\n",
        "    grade = assign_letter_grade(student_marks)\n",
        "    print(f\"Your letter grade is {grade}\")\n",
        "except ValueError:\n",
        "    print(\"Invalid input. Please enter a number.\")"
      ],
      "metadata": {
        "colab": {
          "base_uri": "https://localhost:8080/"
        },
        "id": "52z7eZoQN7Ze",
        "outputId": "c570dfbf-65a4-481e-c651-f1b4f3ec11fb"
      },
      "execution_count": null,
      "outputs": [
        {
          "output_type": "stream",
          "name": "stdout",
          "text": [
            "Enter the student's exam marks: 90\n",
            "Your letter grade is A\n"
          ]
        }
      ]
    },
    {
      "cell_type": "code",
      "source": [
        "def celsius_to_fahrenheit(celsius):\n",
        "    return (celsius * 9/5) + 32\n",
        "\n",
        "try:\n",
        "    c = float(input(\"Nhập nhiệt độ Celsius: \"))\n",
        "    f = celsius_to_fahrenheit(c)\n",
        "    print(f\"Nhiệt độ Fahrenheit tương ứng là {f}.\")\n",
        "except ValueError:\n",
        "    print(\"Đầu vào không hợp lệ. Vui lòng nhập số.\")"
      ],
      "metadata": {
        "colab": {
          "base_uri": "https://localhost:8080/"
        },
        "id": "z0awmt7vSRq2",
        "outputId": "8cce328f-2cf6-4a21-bd3e-ba3da3e373d3"
      },
      "execution_count": 2,
      "outputs": [
        {
          "output_type": "stream",
          "name": "stdout",
          "text": [
            "Nhập nhiệt độ Celsius: 25\n",
            "Nhiệt độ Fahrenheit tương ứng là 77.0.\n"
          ]
        }
      ]
    }
  ]
}