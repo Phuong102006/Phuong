{
  "nbformat": 4,
  "nbformat_minor": 0,
  "metadata": {
    "colab": {
      "provenance": [],
      "authorship_tag": "ABX9TyPFifTfBla7VbGtwntVdAIo",
      "include_colab_link": true
    },
    "kernelspec": {
      "name": "python3",
      "display_name": "Python 3"
    },
    "language_info": {
      "name": "python"
    }
  },
  "cells": [
    {
      "cell_type": "markdown",
      "metadata": {
        "id": "view-in-github",
        "colab_type": "text"
      },
      "source": [
        "<a href=\"https://colab.research.google.com/github/Phuong102006/Phuong/blob/main/Python2.ipynb\" target=\"_parent\"><img src=\"https://colab.research.google.com/assets/colab-badge.svg\" alt=\"Open In Colab\"/></a>"
      ]
    },
    {
      "cell_type": "code",
      "execution_count": null,
      "metadata": {
        "colab": {
          "base_uri": "https://localhost:8080/"
        },
        "id": "6uDS_EWdkCL3",
        "outputId": "24c4947b-fef9-4f77-a4d9-3cbb60b4e7d8"
      },
      "outputs": [
        {
          "output_type": "stream",
          "name": "stdout",
          "text": [
            "X is positive\n"
          ]
        }
      ],
      "source": [
        "x = 10\n",
        "if x < 0:\n",
        "  print(\"X is negative\")\n",
        "elif x == 0:\n",
        "  print(\"X is zero\")\n",
        "else:\n",
        "  print(\"X is positive\")"
      ]
    },
    {
      "cell_type": "code",
      "source": [
        "count = 0\n",
        "while count < 5:\n",
        "  print(count)\n",
        "  count += 1"
      ],
      "metadata": {
        "colab": {
          "base_uri": "https://localhost:8080/"
        },
        "id": "8CNy7dRmqKwa",
        "outputId": "558ad246-52cb-4c1e-b47d-a313fc0b9af3"
      },
      "execution_count": null,
      "outputs": [
        {
          "output_type": "stream",
          "name": "stdout",
          "text": [
            "0\n",
            "1\n",
            "2\n",
            "3\n",
            "4\n"
          ]
        }
      ]
    },
    {
      "cell_type": "code",
      "source": [
        "s = input(\"Enter an integer: \")\n",
        "\n",
        "if (s.startswith('-') and s[1:].isdigit()) or s.isdigit():\n",
        "    n = int(s)\n",
        "    if n % 2 == 0:\n",
        "        print(f\"{n} is an even number.\")\n",
        "    else:\n",
        "        print(f\"{n} is an odd number.\")\n",
        "else:\n",
        "    print(\"Invalid input.\")"
      ],
      "metadata": {
        "colab": {
          "base_uri": "https://localhost:8080/"
        },
        "id": "aQMM12furJk9",
        "outputId": "8c06c579-8d27-4bff-d574-8e29edb56124"
      },
      "execution_count": null,
      "outputs": [
        {
          "output_type": "stream",
          "name": "stdout",
          "text": [
            "Enter an integer: 90\n",
            "90 is an even number.\n"
          ]
        }
      ]
    },
    {
      "cell_type": "code",
      "source": [],
      "metadata": {
        "id": "ym1cteasXCVp"
      },
      "execution_count": null,
      "outputs": []
    },
    {
      "cell_type": "code",
      "source": [
        "def max(number1,number2, number3):\n",
        " if number1 >= number2 and number1 >= number3:\n",
        "  print(number1)\n",
        " if number2 >= number1 and number2 >= number3:\n",
        "  print(number2)\n",
        " else:\n",
        "  print(number3)\n",
        "max(1,2,20)"
      ],
      "metadata": {
        "colab": {
          "base_uri": "https://localhost:8080/"
        },
        "id": "hiAMpIxhW6fh",
        "outputId": "b547579b-48ab-4831-c72a-ae384ac06287"
      },
      "execution_count": null,
      "outputs": [
        {
          "output_type": "stream",
          "name": "stdout",
          "text": [
            "20\n"
          ]
        }
      ]
    },
    {
      "cell_type": "code",
      "source": [
        "data = [1,7,9,10,2,6]\n",
        "big_index = 0\n",
        "for j in range(len(data)):\n",
        "  if data[j] > data[big_index]:\n",
        "    big_index = j\n",
        "data[big_index]\n"
      ],
      "metadata": {
        "colab": {
          "base_uri": "https://localhost:8080/"
        },
        "id": "BMVzkW01sqnH",
        "outputId": "e20008bf-24bd-4d49-e37c-2dbf9b2d5afd"
      },
      "execution_count": null,
      "outputs": [
        {
          "output_type": "execute_result",
          "data": {
            "text/plain": [
              "10"
            ]
          },
          "metadata": {},
          "execution_count": 7
        }
      ]
    },
    {
      "cell_type": "code",
      "source": [
        "n = 5\n",
        "while n > 0:\n",
        "  n-= 1\n",
        "  print(n)\n",
        "  if n == 2:\n",
        "    break\n",
        "else:\n",
        "  print(\"Loop done\")"
      ],
      "metadata": {
        "colab": {
          "base_uri": "https://localhost:8080/"
        },
        "id": "vDzjWg0TqsJG",
        "outputId": "5d650c17-fe86-442a-a3a0-d5513fb5a6f6"
      },
      "execution_count": null,
      "outputs": [
        {
          "output_type": "stream",
          "name": "stdout",
          "text": [
            "4\n",
            "3\n",
            "2\n"
          ]
        }
      ]
    }
  ]
}